{
 "cells": [
  {
   "cell_type": "code",
   "execution_count": 1,
   "metadata": {},
   "outputs": [],
   "source": [
    "import numpy as np\n",
    "import pandas as pd\n",
    "import os"
   ]
  },
  {
   "cell_type": "code",
   "execution_count": 2,
   "metadata": {},
   "outputs": [],
   "source": [
    "from math import radians, cos, sin, asin, sqrt\n",
    "\n",
    "def haversine(lon1, lat1, lon2, lat2):\n",
    "    \"\"\"\n",
    "    Calculate the great circle distance in kilometers between two points \n",
    "    on the earth (specified in decimal degrees)\n",
    "    \"\"\"\n",
    "    # convert decimal degrees to radians \n",
    "    lon1, lat1, lon2, lat2 = map(radians, [lon1, lat1, lon2, lat2])\n",
    "\n",
    "    # haversine formula \n",
    "    dlon = lon2 - lon1 \n",
    "    dlat = lat2 - lat1 \n",
    "    a = sin(dlat/2)**2 + cos(lat1) * cos(lat2) * sin(dlon/2)**2\n",
    "    c = 2 * asin(sqrt(a)) \n",
    "    r = 6371 # Radius of earth in kilometers. Use 3956 for miles. Determines return value units.\n",
    "    return c * r\n",
    "\n",
    "\n",
    "\n",
    "def api(start, end):\n",
    "    \n",
    "        \n",
    "    base_url_data = \"C:/Users/Anirudh/Desktop/Numadic/Data/\"\n",
    "    base_url = \"C:/Users/Anirudh/Desktop/Numadic/\"\n",
    "    main_dir, trip_info = os.listdir(base_url_data)    \n",
    "    url = base_url_data + main_dir\n",
    "    all_files = os.listdir(url)\n",
    "    column_names = ['License Plate', \"Number of Trips\", \"Average Speed\", \"Transporter Name\", \"Number of Speed Violations\"]\n",
    "    data = []\n",
    "    \n",
    "    try :\n",
    "\n",
    "        for file in all_files:\n",
    "\n",
    "            df = pd.read_csv(url + '/' + file)\n",
    "            df = df[(df['tis'] >= start) & (df['tis'] <= end)]\n",
    "            \n",
    "            if len(df) == 0:\n",
    "                continue\n",
    "\n",
    "            license_plate = file[:-4]\n",
    "            number_of_trips = len(df)\n",
    "            avg_speed = \"{0:.2f}\".format(df['spd'].mean())\n",
    "            number_of_speed_violations = df['osf'].sum()\n",
    "\n",
    "            new_df = pd.read_csv(base_url_data + trip_info)\n",
    "            new_df = new_df[new_df['vehicle_number'] == license_plate]\n",
    "            \n",
    "            if len(new_df) != 0:\n",
    "                transporter_name = new_df['transporter_name'].values[0]\n",
    "            else:\n",
    "                transporter_name = np.nan\n",
    "\n",
    "            data.append([license_plate, number_of_trips, avg_speed, transporter_name, number_of_speed_violations])\n",
    "            \n",
    "            \n",
    "        if data == []:\n",
    "            raise Exception(\"No data available for the time period from \" + str(start) + \" to \" + str(end))\n",
    "            \n",
    "        res = pd.DataFrame(data)\n",
    "        result_name = 'result_' + str(start) + \"_\" + str(end) + '.csv'\n",
    "        res.to_csv(base_url + result_name, header=column_names, index=False)\n",
    "\n",
    "    except Exception as err:\n",
    "        print(err)         "
   ]
  },
  {
   "cell_type": "code",
   "execution_count": 3,
   "metadata": {},
   "outputs": [
    {
     "name": "stderr",
     "output_type": "stream",
     "text": [
      "C:\\Users\\Anirudh\\anaconda3\\lib\\site-packages\\IPython\\core\\interactiveshell.py:3254: DtypeWarning: Columns (6) have mixed types.Specify dtype option on import or set low_memory=False.\n",
      "  if (await self.run_code(code, result,  async_=asy)):\n"
     ]
    }
   ],
   "source": [
    "api(1520884855, 1520885177)"
   ]
  },
  {
   "cell_type": "code",
   "execution_count": null,
   "metadata": {},
   "outputs": [],
   "source": []
  },
  {
   "cell_type": "code",
   "execution_count": null,
   "metadata": {},
   "outputs": [],
   "source": []
  },
  {
   "cell_type": "code",
   "execution_count": null,
   "metadata": {},
   "outputs": [],
   "source": []
  },
  {
   "cell_type": "code",
   "execution_count": null,
   "metadata": {},
   "outputs": [],
   "source": []
  }
 ],
 "metadata": {
  "kernelspec": {
   "display_name": "Python 3",
   "language": "python",
   "name": "python3"
  },
  "language_info": {
   "codemirror_mode": {
    "name": "ipython",
    "version": 3
   },
   "file_extension": ".py",
   "mimetype": "text/x-python",
   "name": "python",
   "nbconvert_exporter": "python",
   "pygments_lexer": "ipython3",
   "version": "3.7.6"
  }
 },
 "nbformat": 4,
 "nbformat_minor": 4
}
